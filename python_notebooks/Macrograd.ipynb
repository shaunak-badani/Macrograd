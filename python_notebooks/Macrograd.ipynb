{
 "cells": [
  {
   "cell_type": "code",
   "execution_count": 5,
   "id": "bf71fffe",
   "metadata": {},
   "outputs": [],
   "source": [
    "import numpy as np\n",
    "import matplotlib.pyplot as plt\n",
    "%matplotlib inline"
   ]
  },
  {
   "cell_type": "code",
   "execution_count": 6,
   "id": "573fd75a",
   "metadata": {},
   "outputs": [],
   "source": [
    "class Value:\n",
    "    \n",
    "    def __init__(self, data, _children = (), _op='', label = ''):\n",
    "        self.data = data\n",
    "        self._prev = set(_children)\n",
    "        self._op = _op\n",
    "        self.label = label\n",
    "        self._backward = lambda: None\n",
    "        self.grad = np.zeros_like(self.data, dtype = np.float64)\n",
    "    \n",
    "    def __add__(self, other):\n",
    "        if(isinstance(other, (int, float))):\n",
    "            other = Value(np.array(other))\n",
    "\n",
    "        a = self.data.shape[0]\n",
    "        b = 1\n",
    "        if(len(self.data.shape) > 1):\n",
    "            b = self.data.shape[1]\n",
    "        c = other.data.shape[0]\n",
    "        d = 1\n",
    "        if(len(other.data.shape) > 1):\n",
    "            d = other.data.shape[1]\n",
    "        \n",
    "        assert ((a == c) or (b == d)), \"Can't add these matrices\"\n",
    "        out = Value(self.data + other.data, (self, other), '+')\n",
    "        if a == c:\n",
    "            if b != d:\n",
    "                assert d == 1 or b == 1, \"Can't broadcast these matrices\"\n",
    "        \n",
    "        if d == b:\n",
    "            if c != a:\n",
    "                assert c == 1 or b == 1, \"Can't broadcast these matrices\"\n",
    "        \n",
    "        \n",
    "        def _backward():\n",
    "            other_grad = out.grad\n",
    "            self_grad = out.grad\n",
    "            if(a == c):\n",
    "                if b != d:\n",
    "                    if d == 1:\n",
    "                        other_grad = np.sum(out.grad, axis = 1, keepdims = True)\n",
    "                    else:\n",
    "                        self_grad = np.sum(out.grad, axis = 1, keepdims = True)\n",
    "\n",
    "            if(d == b):\n",
    "                if c != a:\n",
    "                    if c == 1:\n",
    "                        other_grad = np.sum(out.grad, axis = 0, keepdims = True)\n",
    "                    else:\n",
    "                        self_grad = np.sum(out.grad, axis = 0, keepdims = True)\n",
    "                    \n",
    "            self.grad += self_grad\n",
    "            other.grad += other_grad\n",
    "        out._backward = _backward\n",
    "        return out\n",
    "    \n",
    "    def __radd__(self, other):\n",
    "        return self + other\n",
    "    \n",
    "    def __sub__(self, other):\n",
    "        if isinstance(other, np.ndarray):\n",
    "            other = Value(other)\n",
    "        return self + (-other)\n",
    "    \n",
    "    \n",
    "    def __mul__(self, other):\n",
    "        if isinstance(other, (int, float)):\n",
    "            other = Value(np.array([[other]]))\n",
    "        out = Value(self.data * other.data, (self, other), '*')\n",
    "        \n",
    "        def _backward():\n",
    "            grad_add = other.data * out.grad\n",
    "            if self.data.shape[1] == 1:\n",
    "                grad_add = np.sum(grad_add, axis = 1, keepdims = True)\n",
    "            \n",
    "            if self.data.shape[0] == 1:\n",
    "                grad_add = np.sum(grad_add, axis = 0, keepdims = True)\n",
    "                \n",
    "            self.grad += grad_add\n",
    "            \n",
    "            grad_add = self.data * out.grad\n",
    "            if other.data.shape[1] == 1:\n",
    "                grad_add = np.sum(grad_add, axis = 1, keepdims = True)\n",
    "            \n",
    "            if other.data.shape[0] == 1:\n",
    "                grad_add = np.sum(grad_add, axis = 0, keepdims = True)\n",
    "            \n",
    "            other.grad += grad_add\n",
    "        out._backward = _backward\n",
    "        return out\n",
    "    \n",
    "    def __neg__(self):\n",
    "        return (self * -1) \n",
    "    \n",
    "    def __matmul__(self, other): # self @ other == w @ x\n",
    "        a, b = self.data.shape\n",
    "        c, d = other.data.shape\n",
    "        assert (b == c) or (a == d), \"Can't multiply matrices\"\n",
    "        if b != c:\n",
    "            return other @ self\n",
    "        \n",
    "        out = Value(self.data @ other.data, (self, other), '@')\n",
    "        \n",
    "        def _backward():\n",
    "            self.grad += out.grad @ other.data.T\n",
    "            other.grad += self.data.T @ out.grad\n",
    "        out._backward = _backward\n",
    "        return out\n",
    "    \n",
    "    def __pow__(self, other):\n",
    "        out = Value(self.data**other, (self, ), f\"**{other}\")\n",
    "        \n",
    "        def _backward():\n",
    "            self.grad += other * self.data**(other - 1)\n",
    "        out._backward = _backward\n",
    "        return out\n",
    "    \n",
    "    \n",
    "    def tanh(self):\n",
    "        out = Value(np.tanh(self.data), (self, ), 'tanh')\n",
    "        \n",
    "        def _backward():\n",
    "            self.grad += out.grad * (1 - out.data**2)\n",
    "        \n",
    "        out._backward = _backward\n",
    "        return out\n",
    "    \n",
    "    def sum(self):\n",
    "        out = Value(np.sum(self.data), (self, ), 'sigma')\n",
    "        \n",
    "        def _backward():\n",
    "            # for each element of the gradient array,\n",
    "            # broadcast and add the out grad\n",
    "            self.grad += out.grad\n",
    "        out._backward = _backward\n",
    "        return out\n",
    "    \n",
    "    def __repr__(self):\n",
    "        return f\"Value(data={self.data}, grad={self.grad})\"\n",
    "    \n",
    "    def backward(self):\n",
    "        topo = []\n",
    "        visited = set()\n",
    "        \n",
    "        def build_topo(v):\n",
    "            if v not in visited:\n",
    "                visited.add(v)\n",
    "                for child in v._prev:\n",
    "                    build_topo(child)\n",
    "                topo.append(v)\n",
    "                \n",
    "        build_topo(self)\n",
    "        self.grad = np.ones_like(self.data)\n",
    "        for node in reversed(topo):\n",
    "            node._backward()"
   ]
  },
  {
   "cell_type": "code",
   "execution_count": 7,
   "id": "f6ad98d2",
   "metadata": {},
   "outputs": [
    {
     "data": {
      "text/plain": [
       "Value(data=[[ 0  0  0  0]\n",
       " [ 4  5  6  7]\n",
       " [16 18 20 22]\n",
       " [36 39 42 45]], grad=[[0. 0. 0. 0.]\n",
       " [0. 0. 0. 0.]\n",
       " [0. 0. 0. 0.]\n",
       " [0. 0. 0. 0.]])"
      ]
     },
     "execution_count": 7,
     "metadata": {},
     "output_type": "execute_result"
    }
   ],
   "source": [
    "a = Value(np.arange(16).reshape(4, 4))\n",
    "b = Value(np.arange(4).reshape(4, 1))\n",
    "c = b * a\n",
    "c"
   ]
  },
  {
   "cell_type": "code",
   "execution_count": 8,
   "id": "42b7903a",
   "metadata": {},
   "outputs": [
    {
     "data": {
      "text/plain": [
       "(Value(data=[[0]\n",
       "  [1]\n",
       "  [2]\n",
       "  [3]], grad=[[ 6.]\n",
       "  [22.]\n",
       "  [38.]\n",
       "  [54.]]),\n",
       " Value(data=[[ 0  1  2  3]\n",
       "  [ 4  5  6  7]\n",
       "  [ 8  9 10 11]\n",
       "  [12 13 14 15]], grad=[[0. 0. 0. 0.]\n",
       "  [1. 1. 1. 1.]\n",
       "  [2. 2. 2. 2.]\n",
       "  [3. 3. 3. 3.]]))"
      ]
     },
     "execution_count": 8,
     "metadata": {},
     "output_type": "execute_result"
    }
   ],
   "source": [
    "c.backward()\n",
    "b, a"
   ]
  },
  {
   "cell_type": "code",
   "execution_count": 28,
   "id": "a015a826",
   "metadata": {},
   "outputs": [],
   "source": [
    "class Layer:\n",
    "    def __init__(self, nin, nout):\n",
    "        self.w = Value(np.random.uniform(-1, 1, size = (nout, nin)), label = 'w')\n",
    "        self.b = Value(np.random.uniform(-1, 1, size = (nout, 1)), label = 'b')\n",
    "        \n",
    "    def __call__(self, x):\n",
    "        out_value = self.w @ x + self.b\n",
    "        p = out_value.tanh()\n",
    "        return p\n",
    "    \n",
    "    def params(self):\n",
    "        return [self.w, self.b]\n",
    "\n",
    "class MLP:\n",
    "    def __init__(self, nin, nouts):\n",
    "        sz = [nin] + nouts\n",
    "        self.layers = [Layer(sz[i], sz[i + 1]) for i in range(len(nouts))]\n",
    "    \n",
    "    def __call__(self, x):\n",
    "        for layer in self.layers:\n",
    "            x = layer(x)\n",
    "        return x\n",
    "    \n",
    "    def parameters(self):\n",
    "        params = []\n",
    "        for layer in self.layers:\n",
    "            params.extend(layer.params())\n",
    "        return params\n",
    "    \n",
    "    def zero_grad(self):\n",
    "        for layer in self.layers:\n",
    "            layer.w.grad = np.zeros_like(layer.w.grad)\n",
    "            layer.b.grad = np.zeros_like(layer.b.grad)\n",
    "            \n",
    "    \n",
    "    def train(self, x, y, epochs = 10000, output_period = 100):\n",
    "        data = []\n",
    "        for k in range(epochs):\n",
    "            yout = n(x)\n",
    "            loss = ((yout - y_pred)**2).sum()\n",
    "            loss.backward()\n",
    "            \n",
    "            params = self.parameters()\n",
    "            lr = 0.001\n",
    "            for param in params:\n",
    "                param.data -= lr * param.grad\n",
    "            self.zero_grad()\n",
    "            if k % output_period == 0:\n",
    "                data.append([k, loss.data])\n",
    "        return np.array(data)"
   ]
  },
  {
   "cell_type": "code",
   "execution_count": 29,
   "id": "b38767fd",
   "metadata": {},
   "outputs": [],
   "source": [
    "n = MLP(3, [4, 4, 1])"
   ]
  },
  {
   "cell_type": "code",
   "execution_count": 30,
   "id": "b4172830",
   "metadata": {},
   "outputs": [],
   "source": [
    "xs = Value(np.array([\n",
    "    [2.0, 3.0, -1.0],\n",
    "    [3.0, -1.0, 0.5],\n",
    "    [0.5, 1.0, 1.0],\n",
    "    [1.0, 1.0, -1.0]\n",
    "]).T)\n",
    "y_pred = Value(np.array([[1.0, -1.0, -1.0, 1.0]]))"
   ]
  },
  {
   "cell_type": "code",
   "execution_count": 31,
   "id": "429d5459",
   "metadata": {},
   "outputs": [],
   "source": [
    "history = n.train(xs, y_pred, 1000, 1)"
   ]
  },
  {
   "cell_type": "code",
   "execution_count": 32,
   "id": "8de263d9",
   "metadata": {},
   "outputs": [
    {
     "data": {
      "text/plain": [
       "[<matplotlib.lines.Line2D at 0x14b8f3885d10>]"
      ]
     },
     "execution_count": 32,
     "metadata": {},
     "output_type": "execute_result"
    },
    {
     "data": {
      "image/png": "[encoded data removed]",
      "text/plain": [
       "<Figure size 432x288 with 1 Axes>"
      ]
     },
     "metadata": {
      "needs_background": "light"
     },
     "output_type": "display_data"
    }
   ],
   "source": [
    "plt.plot(history[:, 0], history[:, 1])\n",
    "# plt.scatter(history[:, 0], history[:, 1], s = 1, marker = 'x')"
   ]
  },
  {
   "cell_type": "code",
   "execution_count": 33,
   "id": "c09905a7",
   "metadata": {},
   "outputs": [
    {
     "data": {
      "text/plain": [
       "Value(data=[[ 0.88646749 -0.90568285 -0.84789133  0.83438435]], grad=[[0. 0. 0. 0.]])"
      ]
     },
     "execution_count": 33,
     "metadata": {},
     "output_type": "execute_result"
    }
   ],
   "source": [
    "n(xs)"
   ]
  },
  {
   "cell_type": "code",
   "execution_count": 34,
   "id": "388cb8cd",
   "metadata": {},
   "outputs": [
    {
     "data": {
      "text/plain": [
       "[Value(data=[[ 0.15883786 -0.91934224  1.00932881]\n",
       "  [ 0.92316565  0.06638625 -0.25360066]\n",
       "  [-0.6039634  -0.24525947 -0.74957933]\n",
       "  [ 0.88032234  0.01768619  0.46528116]], grad=[[0. 0. 0.]\n",
       "  [0. 0. 0.]\n",
       "  [0. 0. 0.]\n",
       "  [0. 0. 0.]]),\n",
       " Value(data=[[ 0.87300617]\n",
       "  [ 0.29004812]\n",
       "  [-0.97152182]\n",
       "  [-0.53054597]], grad=[[0.]\n",
       "  [0.]\n",
       "  [0.]\n",
       "  [0.]]),\n",
       " Value(data=[[-1.15349423  0.39266513 -0.02232781 -0.74934566]\n",
       "  [-0.18002749  0.92927621 -0.77266283  0.44093955]\n",
       "  [-0.59761804  0.42947167  0.21083124 -0.49926821]\n",
       "  [ 0.95477197  0.72045248  0.03831891 -0.9123852 ]], grad=[[0. 0. 0. 0.]\n",
       "  [0. 0. 0. 0.]\n",
       "  [0. 0. 0. 0.]\n",
       "  [0. 0. 0. 0.]]),\n",
       " Value(data=[[ 0.02480233]\n",
       "  [ 0.11607761]\n",
       "  [-0.76521404]\n",
       "  [ 0.09183052]], grad=[[0.]\n",
       "  [0.]\n",
       "  [0.]\n",
       "  [0.]]),\n",
       " Value(data=[[ 1.4228692  -0.26971547 -0.02620481 -0.39846301]], grad=[[0. 0. 0. 0.]]),\n",
       " Value(data=[[0.2756045]], grad=[[0.]])]"
      ]
     },
     "execution_count": 34,
     "metadata": {},
     "output_type": "execute_result"
    }
   ],
   "source": [
    "n.parameters()"
   ]
  },
  {
   "cell_type": "code",
   "execution_count": 35,
   "id": "71964540",
   "metadata": {},
   "outputs": [],
   "source": [
    "from graphviz import Digraph\n",
    "\n",
    "def trace(root):\n",
    "    nodes, edges = set(), set()\n",
    "    def build(v):\n",
    "        if v not in nodes:\n",
    "            nodes.add(v)\n",
    "            for child in v._prev:\n",
    "                edges.add((child, v))\n",
    "                build(child)\n",
    "                \n",
    "    build(root)\n",
    "    return nodes, edges\n",
    "\n",
    "def draw_dot(root):\n",
    "    dot = Digraph(format = 'svg', graph_attr={'rankdir':'LR'})\n",
    "    nodes, edges = trace(root)\n",
    "    for n in nodes:\n",
    "        uid = str(id(n))\n",
    "        pp = n.data\n",
    "        if isinstance(n.data, np.ndarray):\n",
    "            pp = n.data.shape\n",
    "        ppg = n.grad\n",
    "        if isinstance(n.grad, np.ndarray):\n",
    "            ppg = n.grad.shape\n",
    "        pp = str(pp)\n",
    "        ppg = str(ppg)\n",
    "        dot.node(name = uid, label = \"{ %s | data.s %s, grad.s : %s }\" % (n.label, pp, ppg), shape = 'record')\n",
    "        if n._op:\n",
    "            dot.node(name = uid + n._op, label = n._op)\n",
    "            dot.edge(uid + n._op, uid)\n",
    "            \n",
    "    for n1, n2 in edges:\n",
    "        dot.edge(str(id(n1)), str(id(n2)) + n2._op)\n",
    "    return dot"
   ]
  }
 ],
 "metadata": {
  "kernelspec": {
   "display_name": "ML",
   "language": "python",
   "name": "ml"
  },
  "language_info": {
   "codemirror_mode": {
    "name": "ipython",
    "version": 3
   },
   "file_extension": ".py",
   "mimetype": "text/x-python",
   "name": "python",
   "nbconvert_exporter": "python",
   "pygments_lexer": "ipython3",
   "version": "3.11.5"
  }
 },
 "nbformat": 4,
 "nbformat_minor": 5
}
